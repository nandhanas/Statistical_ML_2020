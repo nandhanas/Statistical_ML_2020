{
 "cells": [
  {
   "cell_type": "markdown",
   "metadata": {},
   "source": [
    "# Preprocessed Data"
   ]
  },
  {
   "cell_type": "code",
   "execution_count": 140,
   "metadata": {},
   "outputs": [],
   "source": [
    "# retrieve the preprocessed data from previous notebook\n",
    "\n",
    "%store -r x_train \n",
    "%store -r x_test \n",
    "%store -r y_train \n",
    "%store -r y_test \n",
    "%store -r Y\n",
    "%store -r le"
   ]
  },
  {
   "cell_type": "code",
   "execution_count": 141,
   "metadata": {},
   "outputs": [
    {
     "data": {
      "text/plain": [
       "(6985, 40, 174)"
      ]
     },
     "execution_count": 141,
     "metadata": {},
     "output_type": "execute_result"
    }
   ],
   "source": [
    "x_train.shape"
   ]
  },
  {
   "cell_type": "code",
   "execution_count": 142,
   "metadata": {},
   "outputs": [],
   "source": [
    "num_rows = 40\n",
    "num_columns = 174\n",
    "num_channels = 1\n",
    "\n",
    "x_train = x_train.reshape(x_train.shape[0], num_rows, num_columns, num_channels)\n",
    "x_test = x_test.reshape(x_test.shape[0], num_rows, num_columns, num_channels)"
   ]
  },
  {
   "cell_type": "markdown",
   "metadata": {},
   "source": [
    "# Ensemble training"
   ]
  },
  {
   "cell_type": "markdown",
   "metadata": {},
   "source": [
    "Ensemble models in machine learning operates by combining the decisions from multiple models to improve the overall performance. Here we are considering 4 models:\n",
    "\n",
    "- CNN\n",
    "- CRNN\n",
    "- Paralllel CNN\n",
    "- Parallel CRNN"
   ]
  },
  {
   "cell_type": "code",
   "execution_count": 143,
   "metadata": {},
   "outputs": [],
   "source": [
    "#Loading saved models\n",
    "\n",
    "from keras.models import load_model\n",
    "import numpy as np\n",
    "\n",
    "model1 = load_model('saved_models/weights.best.basic_cnn.hdf5')\n",
    "model2 = load_model('saved_models/weights.best.basic_crnn.hdf5')\n",
    "model3 = load_model('saved_models/weights.best.basic_pcnn.hdf5')\n",
    "model4 = load_model('saved_models/weights.best.basic_pcrnn.hdf5')\n",
    "\n",
    "models = [model1, model2, model3, model4]"
   ]
  },
  {
   "cell_type": "markdown",
   "metadata": {},
   "source": [
    "## CNN Prediction"
   ]
  },
  {
   "cell_type": "code",
   "execution_count": 144,
   "metadata": {},
   "outputs": [
    {
     "name": "stdout",
     "output_type": "stream",
     "text": [
      "The predicted class is: jackhammer \n",
      "\n",
      "The predicted class is: street_music \n",
      "\n",
      "The predicted class is: drilling \n",
      "\n",
      "The predicted class is: siren \n",
      "\n",
      "The predicted class is: dog_bark \n",
      "\n",
      "The predicted class is: jackhammer \n",
      "\n",
      "The predicted class is: children_playing \n",
      "\n",
      "The predicted class is: dog_bark \n",
      "\n",
      "The predicted class is: drilling \n",
      "\n",
      "The predicted class is: dog_bark \n",
      "\n"
     ]
    }
   ],
   "source": [
    "predicted_vector = model1.predict_classes(x_test)\n",
    "predicted_class = le.inverse_transform(predicted_vector) \n",
    "for i in range(10):\n",
    "    print(\"The predicted class is:\", predicted_class[i], '\\n')"
   ]
  },
  {
   "cell_type": "markdown",
   "metadata": {},
   "source": [
    "## CRNN Prediction"
   ]
  },
  {
   "cell_type": "code",
   "execution_count": 145,
   "metadata": {},
   "outputs": [
    {
     "name": "stdout",
     "output_type": "stream",
     "text": [
      "The predicted class is: jackhammer \n",
      "\n",
      "The predicted class is: jackhammer \n",
      "\n",
      "The predicted class is: drilling \n",
      "\n",
      "The predicted class is: siren \n",
      "\n",
      "The predicted class is: street_music \n",
      "\n",
      "The predicted class is: jackhammer \n",
      "\n",
      "The predicted class is: children_playing \n",
      "\n",
      "The predicted class is: dog_bark \n",
      "\n",
      "The predicted class is: drilling \n",
      "\n",
      "The predicted class is: dog_bark \n",
      "\n"
     ]
    }
   ],
   "source": [
    "predicted_vector = model2.predict_classes(x_test)\n",
    "predicted_class = le.inverse_transform(predicted_vector) \n",
    "for i in range(10):\n",
    "    print(\"The predicted class is:\", predicted_class[i], '\\n')"
   ]
  },
  {
   "cell_type": "markdown",
   "metadata": {},
   "source": [
    "## Parallel CNN Prediction"
   ]
  },
  {
   "cell_type": "code",
   "execution_count": 103,
   "metadata": {},
   "outputs": [
    {
     "name": "stdout",
     "output_type": "stream",
     "text": [
      "The predicted class is: air_conditioner \n",
      "\n",
      "The predicted class is: street_music \n",
      "\n",
      "The predicted class is: drilling \n",
      "\n",
      "The predicted class is: siren \n",
      "\n",
      "The predicted class is: dog_bark \n",
      "\n",
      "The predicted class is: jackhammer \n",
      "\n",
      "The predicted class is: children_playing \n",
      "\n",
      "The predicted class is: dog_bark \n",
      "\n",
      "The predicted class is: drilling \n",
      "\n",
      "The predicted class is: dog_bark \n",
      "\n"
     ]
    }
   ],
   "source": [
    "predicted_vector = model3.predict([x_test,x_test])\n",
    "predicted_vector = np.argmax(predicted_vector, axis=1)\n",
    "predicted_class = le.inverse_transform(predicted_vector) \n",
    "for i in range(10):\n",
    "    print(\"The predicted class is:\", predicted_class[i], '\\n')"
   ]
  },
  {
   "cell_type": "markdown",
   "metadata": {},
   "source": [
    "## Parallel CRNN Prediction"
   ]
  },
  {
   "cell_type": "code",
   "execution_count": 154,
   "metadata": {},
   "outputs": [
    {
     "name": "stdout",
     "output_type": "stream",
     "text": [
      "The predicted class is: air_conditioner \n",
      "\n",
      "The predicted class is: street_music \n",
      "\n",
      "The predicted class is: drilling \n",
      "\n",
      "The predicted class is: dog_bark \n",
      "\n",
      "The predicted class is: dog_bark \n",
      "\n",
      "The predicted class is: jackhammer \n",
      "\n",
      "The predicted class is: children_playing \n",
      "\n",
      "The predicted class is: children_playing \n",
      "\n",
      "The predicted class is: drilling \n",
      "\n",
      "The predicted class is: dog_bark \n",
      "\n"
     ]
    }
   ],
   "source": [
    "predicted_vector = model4.predict([x_test,x_test])\n",
    "predicted_vector = np.argmax(predicted_vector, axis=1)\n",
    "predicted_class = le.inverse_transform(predicted_vector) \n",
    "for i in range(10):\n",
    "    print(\"The predicted class is:\", predicted_class[i], '\\n')"
   ]
  },
  {
   "cell_type": "markdown",
   "metadata": {},
   "source": [
    "## Ensemble predictions"
   ]
  },
  {
   "cell_type": "code",
   "execution_count": 147,
   "metadata": {},
   "outputs": [],
   "source": [
    "# These functions does the job of model.evaluate\n",
    "\n",
    "from sklearn.metrics import accuracy_score\n",
    "\n",
    "def ensemble_predictions_seq(model,x,y):\n",
    "    predicted_vector = model.predict_classes(x)\n",
    "    predicted_class = le.inverse_transform(predicted_vector) \n",
    "    y = np.argmax(y, axis=-1)\n",
    "    return accuracy_score(y, predicted_vector)\n",
    "\n",
    "def ensemble_predictions_parallel(model,x,y):\n",
    "   predicted_vector = model.predict([x,x])\n",
    "   predicted_vector = np.argmax(predicted_vector, axis=1)\n",
    "   predicted_class = le.inverse_transform(predicted_vector) \n",
    "   y = np.argmax(y, axis=-1)\n",
    "   return accuracy_score(y, predicted_vector)            "
   ]
  },
  {
   "cell_type": "markdown",
   "metadata": {},
   "source": [
    "## Training and Testing scores"
   ]
  },
  {
   "cell_type": "code",
   "execution_count": 148,
   "metadata": {},
   "outputs": [
    {
     "name": "stdout",
     "output_type": "stream",
     "text": [
      "Training Scores of the models:\n",
      "\n",
      "[0.9895490336435219, 0.9082319255547602, 0.8171796707229778, 0.7935576234788834]\n",
      "\n",
      " Test Scores of the models:\n",
      "\n",
      "[0.933028048082427, 0.8431597023468803, 0.7893531768746422, 0.7698912421293647]\n"
     ]
    }
   ],
   "source": [
    "# Getting the accuracy score of all the models\n",
    "\n",
    "train_scores = list()\n",
    "test_scores = list()\n",
    "\n",
    "for i, model in enumerate(models):\n",
    "    if i<2:\n",
    "        train_score = ensemble_predictions_seq(model,x_train,y_train)\n",
    "        train_scores.append(train_score)\n",
    "        test_score = ensemble_predictions_seq(model,x_test,y_test)\n",
    "        test_scores.append(test_score)\n",
    "    else:\n",
    "        train_score = ensemble_predictions_parallel(model,x_train,y_train)\n",
    "        train_scores.append(train_score)\n",
    "        test_score = ensemble_predictions_parallel(model,x_test,y_test)\n",
    "        test_scores.append(test_score)\n",
    "print(\"Training Scores of the models:\\n\")\n",
    "print(train_scores)\n",
    "print(\"\\n Test Scores of the models:\\n\")\n",
    "print(test_scores)  "
   ]
  },
  {
   "cell_type": "markdown",
   "metadata": {},
   "source": [
    "## Mean and Standard deviation"
   ]
  },
  {
   "cell_type": "code",
   "execution_count": 149,
   "metadata": {},
   "outputs": [
    {
     "name": "stdout",
     "output_type": "stream",
     "text": [
      "Training Scores Mean: 0.877, Training Standard Deviation: 0.078\n",
      "Test Scores Mean: 0.834, Test Standard Deviation: 0.063\n"
     ]
    }
   ],
   "source": [
    "print('Training Scores Mean: %.3f, Training Standard Deviation: %.3f' % (np.mean(train_scores), np.std(train_scores)))\n",
    "print('Test Scores Mean: %.3f, Test Standard Deviation: %.3f' % (np.mean(test_scores), np.std(test_scores)))"
   ]
  },
  {
   "cell_type": "markdown",
   "metadata": {},
   "source": [
    "## Comparison of Training and Test scores of all the models"
   ]
  },
  {
   "cell_type": "code",
   "execution_count": 151,
   "metadata": {},
   "outputs": [
    {
     "data": {
      "image/png": "[encoded data removed]",
      "text/plain": [
       "<Figure size 432x288 with 1 Axes>"
      ]
     },
     "metadata": {
      "needs_background": "light"
     },
     "output_type": "display_data"
    }
   ],
   "source": [
    "# Plot history: \n",
    "import matplotlib.pyplot as plt\n",
    "\n",
    "x = np.array([1, 2, 3, 4])\n",
    "plt.plot(x,train_scores, '-o',label='training score')\n",
    "plt.plot(x,test_scores, '-o',label='test score')\n",
    "plt.title('UrbanSound Audio classifiaction')\n",
    "plt.ylabel('Scores')\n",
    "plt.xlabel('Models')\n",
    "plt.legend(loc=\"upper left\")\n",
    "plt.show()"
   ]
  },
  {
   "cell_type": "markdown",
   "metadata": {},
   "source": [
    "From the above graph, we can arrange the accuracy in descending order:\n",
    "\n",
    "- CNN\n",
    "- CRNN\n",
    "- Parallel CNN\n",
    "- Parallel CNN\n",
    "\n",
    "And also the difference between the training and testing accuracy decreases in the above given order (ie overfitting is reduced as we progress among the models)"
   ]
  },
  {
   "cell_type": "markdown",
   "metadata": {},
   "source": [
    "## Training time comparison"
   ]
  },
  {
   "cell_type": "code",
   "execution_count": 153,
   "metadata": {},
   "outputs": [
    {
     "data": {
      "image/png": "[encoded data removed]",
      "text/plain": [
       "<Figure size 432x288 with 1 Axes>"
      ]
     },
     "metadata": {
      "needs_background": "light"
     },
     "output_type": "display_data"
    }
   ],
   "source": [
    "# Plot history: \n",
    "import matplotlib.pyplot as plt\n",
    "\n",
    "x = np.array([1, 2, 3, 4])\n",
    "training_time = np.array([0.92, 3.05, 1.20, 2.51])\n",
    "plt.plot(x,training_time, '-o',label='training time')\n",
    "plt.title('UrbanSound Audio classifiaction')\n",
    "plt.ylabel('Time(hrs)')\n",
    "plt.xlabel('Models')\n",
    "plt.legend(loc=\"upper left\")\n",
    "plt.show()"
   ]
  },
  {
   "cell_type": "markdown",
   "metadata": {},
   "source": [
    "From the above graph, we can arrange the training time in descending order:\n",
    "- CRNN\n",
    "- Parallel CRNN\n",
    "- Parallel CNN\n",
    "- CNN\n",
    "\n",
    "System specifications:\n",
    "\n",
    "- Processor: 1.8 GHz Intel Core i5\n",
    "- RAM Memory: 8 GB"
   ]
  }
 ],
 "metadata": {
  "kernelspec": {
   "display_name": "Python 3",
   "language": "python",
   "name": "python3"
  },
  "language_info": {
   "codemirror_mode": {
    "name": "ipython",
    "version": 3
   },
   "file_extension": ".py",
   "mimetype": "text/x-python",
   "name": "python",
   "nbconvert_exporter": "python",
   "pygments_lexer": "ipython3",
   "version": "3.7.1"
  }
 },
 "nbformat": 4,
 "nbformat_minor": 2
}
